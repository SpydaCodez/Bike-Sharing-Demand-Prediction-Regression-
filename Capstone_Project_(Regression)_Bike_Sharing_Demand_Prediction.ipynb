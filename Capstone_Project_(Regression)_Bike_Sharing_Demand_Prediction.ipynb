{
  "nbformat": 4,
  "nbformat_minor": 0,
  "metadata": {
    "colab": {
      "private_outputs": true,
      "provenance": [],
      "collapsed_sections": [
        "w6K7xa23Elo4",
        "mDgbUHAGgjLW",
        "gIfDvo9L0UH2"
      ]
    },
    "kernelspec": {
      "name": "python3",
      "display_name": "Python 3"
    },
    "language_info": {
      "name": "python"
    }
  },
  "cells": [
    {
      "cell_type": "markdown",
      "source": [
        "# **Project Name**    -  **Bike Sharing Demand Prediction**\n",
        "\n"
      ],
      "metadata": {
        "id": "vncDsAP0Gaoa"
      }
    },
    {
      "cell_type": "markdown",
      "source": [
        "##### **Project Type**    - Regression\n",
        "##### **Contribution**    - Individual (Sayesh Ankaram)\n"
      ],
      "metadata": {
        "id": "beRrZCGUAJYm"
      }
    },
    {
      "cell_type": "markdown",
      "source": [
        "# **Project Summary -**"
      ],
      "metadata": {
        "id": "FJNUwmbgGyua"
      }
    },
    {
      "cell_type": "markdown",
      "source": [
        "The emergence of bike and scooter ride-sharing companies in urban areas, has created a challenge in accurately predicting the demand for their services. Overestimating or underestimating the demand can lead to resource wastage or revenue loss, respectively. To address this challenge, this project aims towards combining historical bike usage patterns with weather data to forecast bike rental demand.\n",
        "\n",
        "This project utilizes a dataset with eight input variables: 'Date', 'Seasons', 'Holiday', 'Functional day', 'Temperature', 'Humidity', 'Dew Point Temperature', and 'Windspeed'. Python libraries such as Pandas, Seaborn, NumPy, and scikit-learn (sklearn) are used to develop the prediction algorithm. By evaluating different models, the project seeks to identify algorithms that provide accurate predictions and can be deployed effectively in real-world scenarios.\n",
        "\n",
        "Accurate bike rental demand forecasting offers significant benefits. Ride-sharing companies can reduce waste and improve resource allocation, resulting in cost savings and increased profitability. By optimizing bike maintenance, parking space allocation, and operational planning based on anticipated demand, these companies can operate more efficiently.\n",
        "\n",
        "Moreover, accurate demand predictions enhance customer satisfaction and provide a better overall experience for users. By ensuring an adequate supply of bikes and scooters based on anticipated demand, customers are less likely to face unavailability issues. This fosters customer loyalty, positive word-of-mouth, and sustained business growth.\n",
        "\n",
        "Additionally, bike and scooter ride-sharing services are considered environmentally friendly alternatives to traditional transportation methods. By incorporating weather data into demand forecasting, it becomes possible to align the supply of bikes and scooters with weather conditions suitable for cycling. This encourages more people to choose biking as a means of transportation, resulting in reduced traffic congestion and lower carbon emissions. Accurate demand forecasting contributes to the broader goal of promoting sustainable and eco-friendly urban mobility.\n",
        "\n",
        "In conclusion, this project's aim is to combine historical bike usage patterns with weather data for accurate demand forecasting holds significant potential for the bike and scooter ride-sharing industry. By utilizing advanced algorithms and machine learning techniques, the project seeks to optimize resource allocation, reduce waste, and increase profitability for ride-sharing companies. Simultaneously, it strives to enhance customer satisfaction, promote environmentally friendly transportation alternatives, and mitigate traffic congestion and carbon emissions. Data-driven insights can have a positive impact on both the business and environmental aspects of the bike and scooter ride-sharing industry, leading to a more sustainable and efficient urban mobility landscape."
      ],
      "metadata": {
        "id": "F6v_1wHtG2nS"
      }
    },
    {
      "cell_type": "markdown",
      "source": [
        "# **GitHub Link -**"
      ],
      "metadata": {
        "id": "w6K7xa23Elo4"
      }
    },
    {
      "cell_type": "markdown",
      "source": [
        "Provide your GitHub Link here."
      ],
      "metadata": {
        "id": "h1o69JH3Eqqn"
      }
    },
    {
      "cell_type": "markdown",
      "source": [
        "# **Problem Statement**\n"
      ],
      "metadata": {
        "id": "yQaldy8SH6Dl"
      }
    },
    {
      "cell_type": "markdown",
      "source": [
        "**Currently Rental bikes are introduced in many urban cities for the enhancement of mobility comfort. It is important to make the rental bike available and accessible to the public at the right time as it lessens the waiting time. Eventually, providing the city with a stable supply of rental bikes becomes a major concern. The crucial part is the prediction of bike count required at each hour for the stable supply of rental bikes.**"
      ],
      "metadata": {
        "id": "DpeJGUA3kjGy"
      }
    },
    {
      "cell_type": "markdown",
      "source": [
        "# **General Guidelines** : -  "
      ],
      "metadata": {
        "id": "mDgbUHAGgjLW"
      }
    },
    {
      "cell_type": "markdown",
      "source": [
        "1.   Well-structured, formatted, and commented code is required.\n",
        "2.   Exception Handling, Production Grade Code & Deployment Ready Code will be a plus. Those students will be awarded some additional credits.\n",
        "     \n",
        "     The additional credits will have advantages over other students during Star Student selection.\n",
        "       \n",
        "             [ Note: - Deployment Ready Code is defined as, the whole .ipynb notebook should be executable in one go\n",
        "                       without a single error logged. ]\n",
        "\n",
        "3.   Each and every logic should have proper comments.\n",
        "4. You may add as many number of charts you want. Make Sure for each and every chart the following format should be answered.\n",
        "        \n",
        "\n",
        "```\n",
        "# Chart visualization code\n",
        "```\n",
        "            \n",
        "\n",
        "*   Why did you pick the specific chart?\n",
        "*   What is/are the insight(s) found from the chart?\n",
        "* Will the gained insights help creating a positive business impact?\n",
        "Are there any insights that lead to negative growth? Justify with specific reason.\n",
        "\n",
        "5. You have to create at least 15 logical & meaningful charts having important insights.\n",
        "\n",
        "\n",
        "[ Hints : - Do the Vizualization in  a structured way while following \"UBM\" Rule.\n",
        "\n",
        "U - Univariate Analysis,\n",
        "\n",
        "B - Bivariate Analysis (Numerical - Categorical, Numerical - Numerical, Categorical - Categorical)\n",
        "\n",
        "M - Multivariate Analysis\n",
        " ]\n",
        "\n",
        "\n",
        "\n",
        "\n",
        "\n",
        "6. You may add more ml algorithms for model creation. Make sure for each and every algorithm, the following format should be answered.\n",
        "\n",
        "\n",
        "*   Explain the ML Model used and it's performance using Evaluation metric Score Chart.\n",
        "\n",
        "\n",
        "*   Cross- Validation & Hyperparameter Tuning\n",
        "\n",
        "*   Have you seen any improvement? Note down the improvement with updates Evaluation metric Score Chart.\n",
        "\n",
        "*   Explain each evaluation metric's indication towards business and the business impact pf the ML model used.\n",
        "\n",
        "\n",
        "\n",
        "\n",
        "\n",
        "\n",
        "\n",
        "\n",
        "\n",
        "\n",
        "\n",
        "\n",
        "\n",
        "\n",
        "\n",
        "\n",
        "\n",
        "\n"
      ],
      "metadata": {
        "id": "ZrxVaUj-hHfC"
      }
    },
    {
      "cell_type": "markdown",
      "source": [
        "# ***Let's Begin !***"
      ],
      "metadata": {
        "id": "O_i_v8NEhb9l"
      }
    },
    {
      "cell_type": "markdown",
      "source": [
        "## ***1. Know Your Data***"
      ],
      "metadata": {
        "id": "HhfV-JJviCcP"
      }
    },
    {
      "cell_type": "markdown",
      "source": [
        "### Import Libraries"
      ],
      "metadata": {
        "id": "Y3lxredqlCYt"
      }
    },
    {
      "cell_type": "code",
      "source": [
        "# Import Libraries\n",
        "from google.colab import drive                                                  # for mounting the dataset\n",
        "\n",
        "import numpy as np                                                              # for processing single-dimensional data centric operations\n",
        "import pandas as pd                                                             # for processing multi-dimensional data centric operations\n",
        "import matplotlib.pyplot as plt                                                 # for plotting 2D graphs\n",
        "import seaborn as sns                                                           # for plotting 3D & more sophisticated statstical graphs\n",
        "import missingno as msno                                                        # for plotting null values\n",
        "\n",
        "import random                                                                   # for randomly picking visualizations background style\n",
        "\n",
        "import warnings                                                                 # for ignoring any warning interruptions that can disrupt the flow of code\n",
        "\n",
        "from datetime import datetime                                                   # for converting the Dtype of a categorical date feature from object to datetime64[ns]\n",
        "import datetime as dt\n",
        "\n",
        "from statsmodels.stats.outliers_influence import variance_inflation_factor      # for using VIF in order to detect multicollinearity between features\n",
        "\n",
        "import statsmodels.api as sm                                                    # Perform Statistical Test to obtain P-Value\n",
        "\n",
        "from scipy.stats import zscore                                                  # for Scaling the data\n",
        "\n",
        "from sklearn.preprocessing import MinMaxScaler                                  # for transforming the features on a common scale\n",
        "from sklearn.preprocessing import OneHotEncoder                                 # for transforming categorical data into numerical binary format\n",
        "from sklearn.preprocessing import OrdinalEncoder                                # for transforming categorical data into ordinal values with natural ordering\n",
        "from sklearn.preprocessing import LabelEncoder                                  # for transforming categorical data into unique integer values\n",
        "\n",
        "from sklearn.model_selection import train_test_split                            # for splitting the dataset into training & testing set\n",
        "from sklearn.model_selection import GridSearchCV                                # for utilizing Grid Search Cross Validation\n",
        "from sklearn.model_selection import cross_validate                              # for utilizing cross validation inorder to check the perforamnce of the model\n",
        "from sklearn.model_selection import RandomizedSearchCV                          # for utilizing Ranodm search cross validation inorder to select best hyperparameter for the model\n",
        "\n",
        "from sklearn.linear_model import LinearRegression                               # for fitting a Linear Regression model onto the data distribution\n",
        "from sklearn.linear_model import Lasso                                          # for fitting a Lasso Regression model onto the data distribution\n",
        "from sklearn.linear_model import Ridge                                          # for fitting a Ridge Regreesion model onto the data distribution\n",
        "\n",
        "from sklearn.metrics import *                                                   # for including Evaluation metrics in order to quantify the performance of predictive models"
      ],
      "metadata": {
        "id": "M8Vqi-pPk-HR"
      },
      "execution_count": null,
      "outputs": []
    },
    {
      "cell_type": "markdown",
      "source": [
        "### Dataset Loading"
      ],
      "metadata": {
        "id": "3RnN4peoiCZX"
      }
    },
    {
      "cell_type": "code",
      "source": [
        "# Load Dataset\n",
        "drive.mount('/content/drive')\n",
        "df_path = '/content/drive/My Drive/Colab Notebooks/Module 5 - Machine Learning/Capstone Project - Regression/'\n",
        "data = pd.read_csv(df_path + 'SeoulBikeData.csv', index_col=False, encoding='unicode escape')"
      ],
      "metadata": {
        "id": "4CkvbW_SlZ_R"
      },
      "execution_count": null,
      "outputs": []
    },
    {
      "cell_type": "markdown",
      "source": [
        "### Handling Warnings and Assigning Background Randomizer"
      ],
      "metadata": {
        "id": "mbHYf94VK15p"
      }
    },
    {
      "cell_type": "code",
      "source": [
        "# Ignoring interpreter generated Warnings\n",
        "warnings.filterwarnings(action='ignore')"
      ],
      "metadata": {
        "id": "M8fc-_IqK6Ja"
      },
      "execution_count": null,
      "outputs": []
    },
    {
      "cell_type": "code",
      "source": [
        "# Initializing Background Randomizer for Data Viusualizations\n",
        "style_types = plt.style.available\n",
        "for i in random.sample(style_types, len(style_types)):\n",
        "  plt.style.use(i)\n",
        "%matplotlib inline"
      ],
      "metadata": {
        "id": "JO3fGw2jK9-P"
      },
      "execution_count": null,
      "outputs": []
    },
    {
      "cell_type": "markdown",
      "source": [
        "### Dataset First View"
      ],
      "metadata": {
        "id": "x71ZqKXriCWQ"
      }
    },
    {
      "cell_type": "code",
      "source": [
        "# Dataset First Look\n",
        "data.head().T"
      ],
      "metadata": {
        "id": "LWNFOSvLl09H"
      },
      "execution_count": null,
      "outputs": []
    },
    {
      "cell_type": "markdown",
      "source": [
        "### Dataset Rows & Columns count"
      ],
      "metadata": {
        "id": "7hBIi_osiCS2"
      }
    },
    {
      "cell_type": "code",
      "source": [
        "# Dataset First Look\n",
        "data.tail().T"
      ],
      "metadata": {
        "id": "mWBPlesFLRiT"
      },
      "execution_count": null,
      "outputs": []
    },
    {
      "cell_type": "code",
      "source": [
        "# Dataset Rows & Columns count\n",
        "data.shape"
      ],
      "metadata": {
        "id": "Kllu7SJgmLij"
      },
      "execution_count": null,
      "outputs": []
    },
    {
      "cell_type": "markdown",
      "source": [
        "### Dataset Information"
      ],
      "metadata": {
        "id": "JlHwYmJAmNHm"
      }
    },
    {
      "cell_type": "code",
      "source": [
        "# Dataset Info\n",
        "data.info()"
      ],
      "metadata": {
        "id": "e9hRXRi6meOf"
      },
      "execution_count": null,
      "outputs": []
    },
    {
      "cell_type": "markdown",
      "source": [
        "#### Duplicate Values"
      ],
      "metadata": {
        "id": "35m5QtbWiB9F"
      }
    },
    {
      "cell_type": "code",
      "source": [
        "# Dataset Duplicate Value Count\n",
        "data.duplicated().sum()"
      ],
      "metadata": {
        "id": "1sLdpKYkmox0"
      },
      "execution_count": null,
      "outputs": []
    },
    {
      "cell_type": "markdown",
      "source": [
        "#### Missing Values/Null Values"
      ],
      "metadata": {
        "id": "PoPl-ycgm1ru"
      }
    },
    {
      "cell_type": "code",
      "source": [
        "# Missing Values/Null Values Count\n",
        "data.isna().sum()"
      ],
      "metadata": {
        "id": "GgHWkxvamxVg"
      },
      "execution_count": null,
      "outputs": []
    },
    {
      "cell_type": "code",
      "source": [
        "# Visualizing the missing values\n",
        "msno.bar(data, figsize=(10, 7), fontsize=10, color='black')"
      ],
      "metadata": {
        "id": "3q5wnI3om9sJ"
      },
      "execution_count": null,
      "outputs": []
    },
    {
      "cell_type": "markdown",
      "source": [
        "### What did you know about your dataset?"
      ],
      "metadata": {
        "id": "H0kj-8xxnORC"
      }
    },
    {
      "cell_type": "markdown",
      "source": [
        "The dataset we've been presented with explains monthly stock prizes of the bank since it's inception and it includes the closing, starting, highest & lowest stock prizes of every month.\n",
        "\n",
        "Our main aim is to predict bike count at each hour for a stable supply of rental bikes.\n",
        "\n",
        "The above dataset comprises of 8760 rows & 14 columns.\n",
        "\n",
        "There are 0 duplicates present in the dataset.\n",
        "\n",
        "There are 0 missing values present in the dataset."
      ],
      "metadata": {
        "id": "gfoNAAC-nUe_"
      }
    },
    {
      "cell_type": "markdown",
      "source": [
        "## ***2. Understanding Your Variables***"
      ],
      "metadata": {
        "id": "nA9Y7ga8ng1Z"
      }
    },
    {
      "cell_type": "code",
      "source": [
        "# Dataset Columns\n",
        "list(data.columns)"
      ],
      "metadata": {
        "id": "j7xfkqrt5Ag5"
      },
      "execution_count": null,
      "outputs": []
    },
    {
      "cell_type": "code",
      "source": [
        "#Renaming the columns\n",
        "data = data.rename(columns={'Temperature(°C)':'Temperature', 'Humidity(%)':'Humidity', 'Wind speed (m/s)':'Wind speed', 'Visibility (10m)':'Visibility',\n",
        "                            'Dew point temperature(°C)':'Dew point temperature', 'Solar Radiation (MJ/m2)':'Solar Radiation', 'Rainfall(mm)':'Rainfall',\n",
        "                            'Snowfall (cm)':'Snowfall'})"
      ],
      "metadata": {
        "id": "DQPmHn_EtQrC"
      },
      "execution_count": null,
      "outputs": []
    },
    {
      "cell_type": "code",
      "source": [
        "# Dataset Describe\n",
        "data.describe().T"
      ],
      "metadata": {
        "id": "DnOaZdaE5Q5t"
      },
      "execution_count": null,
      "outputs": []
    },
    {
      "cell_type": "markdown",
      "source": [
        "### Variables Description"
      ],
      "metadata": {
        "id": "PBTbrJXOngz2"
      }
    },
    {
      "cell_type": "markdown",
      "source": [
        "Our Dataset comprises of 8760 rows & 14 columns.\n",
        "\n",
        "\n",
        "\n",
        "Following is the description regarding each column:\n",
        "  \n",
        "* **Date** - day/month/year\n",
        "* **Rented Bike count** - Count of bikes rented per hour\n",
        "* **Hour** - Hour of the day\n",
        "* **Temperature(°C)**-Temperature in Celsius\n",
        "* **Humidity(%)** - Humidity in the air in %\n",
        "* **Wind speed (m/s)** - Speed of the wind in  m/s\n",
        "* **Visibility (10m)** - Visibility in m (10m)\n",
        "* **Dew point temperature(°C)** - Temperature at the beggining of the day(Celsius)\n",
        "* **Solar Radiation (MJ/m2)** -Sun contribution (MJ/m2)\n",
        "* **Rainfall(mm)** - Amount of raining in mm\n",
        "* **Snowfall(cm)** - Amount of snowing in cm\n",
        "* **Seasons** - Winter, Spring, Summer, Autumn\n",
        "* **Holiday** - Holiday/No holiday\n",
        "* **Functional Day** -  If the day is a Functional Day or not\n",
        "\n",
        "\n",
        "\n",
        "From above Overview, we can conclude that:\n",
        "\n",
        "*   **Categorical Discrete Variables (dtype: object)** - Date, Seasons, Holiday, Functioning Day.\n",
        "*   **Numerical Discrete Variables (dtype: int64)** - Hour.\n",
        "\n",
        "*   **Numerical Continuous Variables (dtype: float64)** - Temperature(°C), Humidity(%), Wind speed (m/s), Visibility (10m), Dew point temperature(°C), Solar Radiation (MJ/m2), Rainfall(mm), Snowfall(cm).\n",
        "\n",
        "\n",
        "\n",
        "*   **Dependent/Target/Y variable** - \"Rented Bike count\"\n",
        "\n",
        "\n",
        "\n",
        "\n"
      ],
      "metadata": {
        "id": "aJV4KIxSnxay"
      }
    },
    {
      "cell_type": "markdown",
      "source": [
        "### Check Unique Values for each variable."
      ],
      "metadata": {
        "id": "u3PMJOP6ngxN"
      }
    },
    {
      "cell_type": "code",
      "source": [
        "# Check Unique Values for each variable.\n",
        "for i in list(data.columns):\n",
        "  print(f\"\"\"No. of unique values in \"{i}\" is {data[i].nunique()}.\"\"\")"
      ],
      "metadata": {
        "id": "zms12Yq5n-jE"
      },
      "execution_count": null,
      "outputs": []
    },
    {
      "cell_type": "markdown",
      "source": [
        "## 3. ***Data Wrangling***"
      ],
      "metadata": {
        "id": "dauF4eBmngu3"
      }
    },
    {
      "cell_type": "markdown",
      "source": [
        "### Data Wrangling Code"
      ],
      "metadata": {
        "id": "bKJF3rekwFvQ"
      }
    },
    {
      "cell_type": "code",
      "source": [
        "# Write your code to make your dataset analysis ready.\n",
        "\n",
        "# Creating an instance of the dataset in order to preserve the original dataset.\n",
        "bike_df = data.copy()"
      ],
      "metadata": {
        "id": "wk-9a2fpoLcV"
      },
      "execution_count": null,
      "outputs": []
    },
    {
      "cell_type": "code",
      "source": [
        "# converting the Dtype of a categorical 'Date' feature from object to datetime64[ns]\n",
        "print(f\"Initial Dtype of Date (pre-conversion): '{bike_df['Date'].dtype}'\")\n",
        "bike_df['Date'] = bike_df['Date'].apply(lambda x: datetime.strptime(x, '%d/%m/%Y'))\n",
        "print(f\"Final Dtype of Date (post-conversion): '{bike_df['Date'].dtype}'\")"
      ],
      "metadata": {
        "id": "0Nk7ZCp5wLQq"
      },
      "execution_count": null,
      "outputs": []
    },
    {
      "cell_type": "code",
      "source": [
        "# creating new columns by extracting Day, Month & Year out of the 'Date' column\n",
        "bike_df['Day'] = bike_df['Date'].dt.day_name()\n",
        "bike_df['Month'] = bike_df['Date'].dt.month\n",
        "bike_df['Year'] = bike_df['Date'].dt.year"
      ],
      "metadata": {
        "id": "A2ov3Czn3yqn"
      },
      "execution_count": null,
      "outputs": []
    },
    {
      "cell_type": "code",
      "source": [
        "bike_df.head()"
      ],
      "metadata": {
        "id": "bMfZbK0nzHmM"
      },
      "execution_count": null,
      "outputs": []
    },
    {
      "cell_type": "code",
      "source": [
        "# creating a new column called 'Weekend' that takes Functional days as 0 & Non-functional days as 1\n",
        "bike_df['Weekend'] = bike_df['Day'].apply(lambda x: 1 if x=='Saturday' or x=='Sunday' else 0)\n",
        "bike_df['Weekend'].value_counts()"
      ],
      "metadata": {
        "id": "vSFZmZR0zO-l"
      },
      "execution_count": null,
      "outputs": []
    },
    {
      "cell_type": "code",
      "source": [
        "# dropping 'Date', 'Day' & 'Year' columns\n",
        "bike_df.drop(columns=['Date', 'Day','Year'], axis=1, inplace=True)"
      ],
      "metadata": {
        "id": "vpwlIpNcCU4q"
      },
      "execution_count": null,
      "outputs": []
    },
    {
      "cell_type": "code",
      "source": [
        "bike_df.head()"
      ],
      "metadata": {
        "id": "l5y50-CCCw_C"
      },
      "execution_count": null,
      "outputs": []
    },
    {
      "cell_type": "markdown",
      "source": [
        "### What all manipulations have you done and insights you found?"
      ],
      "metadata": {
        "id": "MSa1f5Uengrz"
      }
    },
    {
      "cell_type": "markdown",
      "source": [
        "**Following are some of the steps that were carried out and some insights that have been found while performing Data wrangling:**\n",
        "\n",
        "\n",
        "\n",
        "1.   In order to avoid tampering with the original dataset, we created an instance of it.\n",
        "2.   We found out that there's a 'Date' variable which was of Dtype: object, hence we converted it to Dtype: datetime64.\n",
        "3.  After the conversion, we created new columns by extracting 'Day', 'Month' & 'year' from the 'Date' column.\n",
        "4.  After the extraction, we used the 'Day' column to create a new column called 'Weekend', which takes 0 for Functional Days & 1 for Non-Functional Days.\n",
        "5.  Later, we drop the irrelevant columns 'Date', 'Day' & 'Year'.\n",
        "\n",
        "\n",
        "\n",
        "\n",
        "\n",
        "\n",
        "\n",
        "\n",
        "\n",
        "\n",
        "\n",
        "\n"
      ],
      "metadata": {
        "id": "LbyXE7I1olp8"
      }
    },
    {
      "cell_type": "markdown",
      "source": [
        "## ***4. Data Vizualization, Storytelling & Experimenting with charts : Understand the relationships between variables***"
      ],
      "metadata": {
        "id": "GF8Ens_Soomf"
      }
    },
    {
      "cell_type": "markdown",
      "source": [
        "### **Univariate Analysis**"
      ],
      "metadata": {
        "id": "RVmHXwZBJ5Xw"
      }
    },
    {
      "cell_type": "markdown",
      "source": [
        "#### Chart - 1"
      ],
      "metadata": {
        "id": "0wOQAZs5pc--"
      }
    },
    {
      "cell_type": "code",
      "source": [
        "# Considering only the Dependent feature\n",
        "bike_df['Rented Bike Count'].value_counts()"
      ],
      "metadata": {
        "id": "u7Lv-choMFiS"
      },
      "execution_count": null,
      "outputs": []
    },
    {
      "cell_type": "code",
      "source": [
        "# Checking the Distribution of Target variable by making 2 plots\n",
        "fig, (ax1,ax2) = plt.subplots(1,2,figsize=(13,3))\n",
        "\n",
        "# Checking the Skewness of Target variable about it's mean - using Kernel Density Estimation Plot\n",
        "sns.kdeplot(bike_df,x='Rented Bike Count',fill=True,color='darkblue',ax=ax1)\n",
        "ax1.axvline(bike_df['Rented Bike Count'].mean(), color='red', linestyle=':', linewidth=2)\n",
        "\n",
        "# Checking the Outliers present in the Target variable - using Box Plot\n",
        "sns.boxplot(bike_df,x='Rented Bike Count',ax=ax2,palette='Pastel1')\n",
        "\n",
        "plt.show()"
      ],
      "metadata": {
        "id": "7v_ESjsspbW7"
      },
      "execution_count": null,
      "outputs": []
    },
    {
      "cell_type": "markdown",
      "source": [
        "##### 1. Why did you pick the specific chart?"
      ],
      "metadata": {
        "id": "K5QZ13OEpz2H"
      }
    },
    {
      "cell_type": "markdown",
      "source": [
        "\n",
        "\n",
        "   \n",
        "\n",
        "\n",
        "\n",
        "*   Kernel Density Estimation Plot describes the skewness of Dependent variable.\n",
        "*   Box Plot describes the presence of outliers in the Dependent variable.\n",
        "\n"
      ],
      "metadata": {
        "id": "XESiWehPqBRc"
      }
    },
    {
      "cell_type": "markdown",
      "source": [
        "##### 2. What is/are the insight(s) found from the chart?"
      ],
      "metadata": {
        "id": "lQ7QKXXCp7Bj"
      }
    },
    {
      "cell_type": "markdown",
      "source": [
        "\n",
        "\n",
        "*   Dependent variable is positively skewed about it's mean.\n",
        "*   Dependent variable has a lot of Outliers.\n",
        "\n",
        "\n",
        "\n",
        "\n",
        "\n"
      ],
      "metadata": {
        "id": "C_j1G7yiqdRP"
      }
    },
    {
      "cell_type": "markdown",
      "source": [
        "##### 3. Will the gained insights help creating a positive business impact?\n",
        "Are there any insights that lead to negative growth? Justify with specific reason."
      ],
      "metadata": {
        "id": "448CDAPjqfQr"
      }
    },
    {
      "cell_type": "markdown",
      "source": [
        "Yes, The insights gained from analyzing data i.e, a positively skewed dependent variable (Bike rented count) and a high number of outliers can potentially create a positive business impact.\n",
        "\n",
        "However, the presence of these outliers describes instances where there are extremely high bike rental counts, which may indicate exceptional demand spikes or anomalies.\n",
        "\n",
        "While this may not directly lead to negative growth, it can pose challenges in capacity planning, resource allocation, and service delivery, requiring businesses to carefully manage and optimize operations to meet customer demand and prevent potential negative impacts on customer satisfaction and business growth."
      ],
      "metadata": {
        "id": "3cspy4FjqxJW"
      }
    },
    {
      "cell_type": "markdown",
      "source": [
        "#### Chart - 2"
      ],
      "metadata": {
        "id": "KSlN3yHqYklG"
      }
    },
    {
      "cell_type": "code",
      "source": [
        "# Considering Independent Numerical features & excluding the Dependent feature\n",
        "Numerical_feat = bike_df.describe().columns.drop('Rented Bike Count')\n",
        "list(Numerical_feat)"
      ],
      "metadata": {
        "id": "R4YgtaqtYklH"
      },
      "execution_count": null,
      "outputs": []
    },
    {
      "cell_type": "code",
      "source": [
        "# Checking the Distribution of Independent Numerical features by making 2 plots\n",
        "for feat in Numerical_feat:\n",
        "  fig, (ax1,ax2) = plt.subplots(1,2, figsize=(7,7))\n",
        "  sns.kdeplot(bike_df, x=feat, fill=True, color='darkblue', ax=ax1)\n",
        "  ax1.axvline(bike_df[feat].mean(), color='red', linestyle=':', linewidth=2)\n",
        "  sns.boxplot(bike_df, x=feat, ax=ax2, palette='Pastel1')\n",
        "  plt.show()\n",
        "  print('\\n\\n')"
      ],
      "metadata": {
        "id": "My84Jey9hZJw"
      },
      "execution_count": null,
      "outputs": []
    },
    {
      "cell_type": "markdown",
      "source": [
        "##### 1. Why did you pick the specific chart?"
      ],
      "metadata": {
        "id": "t6dVpIINYklI"
      }
    },
    {
      "cell_type": "markdown",
      "source": [
        "*   Kernel Density Estimation Plot describes the skewness of Independent Numerical features.\n",
        "*   Box Plot describes the presence of outliers in the Independent Numerical features."
      ],
      "metadata": {
        "id": "5aaW0BYyYklI"
      }
    },
    {
      "cell_type": "markdown",
      "source": [
        "##### 2. What is/are the insight(s) found from the chart?"
      ],
      "metadata": {
        "id": "ijmpgYnKYklI"
      }
    },
    {
      "cell_type": "markdown",
      "source": [
        "*   Some Independent Numerical features exhibit skeweness.\n",
        "*   Some Independent Numerical features have Outliers in them."
      ],
      "metadata": {
        "id": "PSx9atu2YklI"
      }
    },
    {
      "cell_type": "markdown",
      "source": [
        "##### 3. Will the gained insights help creating a positive business impact?\n",
        "Are there any insights that lead to negative growth? Justify with specific reason."
      ],
      "metadata": {
        "id": "-JiQyfWJYklI"
      }
    },
    {
      "cell_type": "markdown",
      "source": [
        "Yes, the insights gained from carefully analyzing and appropriately handling the skewness and outliers of Independent Numerical features can help create a positive business impact.\n",
        "\n",
        "By accurately understanding and addressing these data characteristics, businesses can make informed decisions, develop effective strategies, and optimize their operations.\n",
        "\n",
        "This can lead to improved resource allocation, targeted marketing, enhanced customer satisfaction, and overall positive growth and performance in the business."
      ],
      "metadata": {
        "id": "BcBbebzrYklV"
      }
    },
    {
      "cell_type": "markdown",
      "source": [
        "#### Chart - 3"
      ],
      "metadata": {
        "id": "EM7whBJCYoAo"
      }
    },
    {
      "cell_type": "code",
      "source": [
        "# Considering the Independent Categorical features\n",
        "Categorical_feat = bike_df[['Seasons', 'Holiday', 'Functioning Day']]\n",
        "list(Categorical_feat)"
      ],
      "metadata": {
        "id": "t6GMdE67YoAp"
      },
      "execution_count": null,
      "outputs": []
    },
    {
      "cell_type": "code",
      "source": [
        "# Checking the Distribution of Independent Categorical features by making 1 plot\n",
        "for feat in Categorical_feat:\n",
        "  fig, (ax1) = plt.subplots(1, figsize=(7,7))\n",
        "  sns.countplot(bike_df, x=feat, palette=\"magma\")\n",
        "  plt.show()\n",
        "  print('\\n')"
      ],
      "metadata": {
        "id": "bVsA7HQBnnPz"
      },
      "execution_count": null,
      "outputs": []
    },
    {
      "cell_type": "markdown",
      "source": [
        "##### 1. Why did you pick the specific chart?"
      ],
      "metadata": {
        "id": "fge-S5ZAYoAp"
      }
    },
    {
      "cell_type": "markdown",
      "source": [
        "\n",
        "\n",
        "\n",
        "*   Countplot helps in describing the count of Rental Bikes for 3 Categorical features: Seasons, Holiday, Functional Day.\n",
        "\n",
        "\n",
        "\n",
        "\n"
      ],
      "metadata": {
        "id": "5dBItgRVYoAp"
      }
    },
    {
      "cell_type": "markdown",
      "source": [
        "##### 2. What is/are the insight(s) found from the chart?"
      ],
      "metadata": {
        "id": "85gYPyotYoAp"
      }
    },
    {
      "cell_type": "markdown",
      "source": [
        "*   The count of Rental Bikes remains the same across different seasons.\n",
        "*   THe count of Rental Bikes is highly imbalanced in both: Holiday & Functional Day."
      ],
      "metadata": {
        "id": "4jstXR6OYoAp"
      }
    },
    {
      "cell_type": "markdown",
      "source": [
        "##### 3. Will the gained insights help creating a positive business impact?\n",
        "Are there any insights that lead to negative growth? Justify with specific reason."
      ],
      "metadata": {
        "id": "RoGjAbkUYoAp"
      }
    },
    {
      "cell_type": "markdown",
      "source": [
        "Yes, Analyzing the count of rental bike patterns across seasons, holidays, and functional days provides a valuable insight for understanding the fluctuation in demand and optimizing resource allocation accordingly."
      ],
      "metadata": {
        "id": "zfJ8IqMcYoAp"
      }
    },
    {
      "cell_type": "markdown",
      "source": [
        "### **Bivariate Analysis**"
      ],
      "metadata": {
        "id": "b7ofbuNHz5Qo"
      }
    },
    {
      "cell_type": "markdown",
      "source": [
        "#### Chart - 4"
      ],
      "metadata": {
        "id": "4Of9eVA-YrdM"
      }
    },
    {
      "cell_type": "code",
      "source": [
        "# Considering the Independent Numerical features\n",
        "list(Numerical_feat)"
      ],
      "metadata": {
        "id": "irlUoxc8YrdO"
      },
      "execution_count": null,
      "outputs": []
    },
    {
      "cell_type": "code",
      "source": [
        "# Checking the relationship between Independent Numerical features & the Dependent variable\n",
        "for feat in Numerical_feat:\n",
        "  plt.figure(figsize=(7,7))\n",
        "  sns.scatterplot(bike_df,x=feat,y='Rented Bike Count',color='green')\n",
        "  correlation=bike_df[feat].corr(bike_df['Rented Bike Count'])\n",
        "  plt.title('Rented Bike Count vs ' + feat + ': Correlation = '+str(correlation) )\n",
        "  z = np.polyfit(bike_df[feat], bike_df['Rented Bike Count'], 1)\n",
        "  y_hat = np.poly1d(z)(bike_df[feat])\n",
        "  plt.plot(bike_df[feat], y_hat,'b--', lw=1)\n",
        "  plt.show()\n",
        "  print('\\n\\n\\n')"
      ],
      "metadata": {
        "id": "mYeQtoVo0qoa"
      },
      "execution_count": null,
      "outputs": []
    },
    {
      "cell_type": "markdown",
      "source": [
        "##### 1. Why did you pick the specific chart?"
      ],
      "metadata": {
        "id": "iky9q4vBYrdO"
      }
    },
    {
      "cell_type": "markdown",
      "source": [
        "\n",
        "\n",
        "*   Scatterplot helps in understanding the relationship between Independent Numerical features and the Dependent variable by plotting a regression line helps in visualizing and understanding the coorelation between them.\n",
        "\n",
        "\n"
      ],
      "metadata": {
        "id": "aJRCwT6DYrdO"
      }
    },
    {
      "cell_type": "markdown",
      "source": [
        "##### 2. What is/are the insight(s) found from the chart?"
      ],
      "metadata": {
        "id": "F6T5p64dYrdO"
      }
    },
    {
      "cell_type": "markdown",
      "source": [
        "\n",
        "\n",
        "*   Independent Numerical features like: Hour, Temperature, wind speed, visibility, dew point temperature,solar radiation & month exhibit positive correlation with our dependent variable: Rented Bike Count.\n",
        "*   Independent Numerical features like: Humidity, Rainfall & Snowfall exhibit negative correlation with our dependent variable: Rented Bike Count.\n",
        "\n"
      ],
      "metadata": {
        "id": "Xx8WAJvtYrdO"
      }
    },
    {
      "cell_type": "markdown",
      "source": [
        "##### 3. Will the gained insights help creating a positive business impact?\n",
        "Are there any insights that lead to negative growth? Justify with specific reason."
      ],
      "metadata": {
        "id": "y-Ehk30pYrdP"
      }
    },
    {
      "cell_type": "markdown",
      "source": [
        "Yes, the insights gained indicating positive correlations between Hour, Temperature, wind speed, visibility, dew point temperature, solar radiation, and month with the Rented Bike Count can inform business decisions such as optimizing operational hours, adjusting pricing, and targeting marketing efforts to maximize bike rentals and drive positive business impact.\n",
        "\n",
        "Additionally, understanding the negative correlations with other numerical features can help identify areas for improvement and implement strategies to mitigate potential negative impacts on bike rentals."
      ],
      "metadata": {
        "id": "jLNxxz7MYrdP"
      }
    },
    {
      "cell_type": "markdown",
      "source": [
        "#### Chart - 5"
      ],
      "metadata": {
        "id": "bamQiAODYuh1"
      }
    },
    {
      "cell_type": "code",
      "source": [
        "# Considering the Independent Categorical features\n",
        "list(Categorical_feat)"
      ],
      "metadata": {
        "id": "TIJwrbroYuh3"
      },
      "execution_count": null,
      "outputs": []
    },
    {
      "cell_type": "code",
      "source": [
        "# Checking the relationship between Independent Categorical features & the Dependent variable\n",
        "for feat in Categorical_feat:\n",
        "  fig, (ax1) = plt.subplots(1, figsize=(7,7))\n",
        "  sns.barplot(bike_df, x=feat, y='Rented Bike Count', palette=\"magma\", ax=ax1)\n",
        "  plt.show()\n",
        "  print('\\n')"
      ],
      "metadata": {
        "id": "K37YEzB15xlQ"
      },
      "execution_count": null,
      "outputs": []
    },
    {
      "cell_type": "markdown",
      "source": [
        "##### 1. Why did you pick the specific chart?"
      ],
      "metadata": {
        "id": "QHF8YVU7Yuh3"
      }
    },
    {
      "cell_type": "markdown",
      "source": [
        "\n",
        "\n",
        "*   Bar plot for plotting the variation in Rented Bike count due to Seasons,Holiday and Functioning day.\n",
        "\n",
        "\n"
      ],
      "metadata": {
        "id": "dcxuIMRPYuh3"
      }
    },
    {
      "cell_type": "markdown",
      "source": [
        "##### 2. What is/are the insight(s) found from the chart?"
      ],
      "metadata": {
        "id": "GwzvFGzlYuh3"
      }
    },
    {
      "cell_type": "markdown",
      "source": [
        "* The Bike Rent Count is maximum during summer but minimum during winter.\n",
        "* During holidays, Bike Rent counts drop down.\n",
        "* Contribution of non-funtioning day to the Bike Rent count is insignificant."
      ],
      "metadata": {
        "id": "uyqkiB8YYuh3"
      }
    },
    {
      "cell_type": "markdown",
      "source": [
        "##### 3. Will the gained insights help creating a positive business impact?\n",
        "Are there any insights that lead to negative growth? Justify with specific reason."
      ],
      "metadata": {
        "id": "qYpmQ266Yuh3"
      }
    },
    {
      "cell_type": "markdown",
      "source": [
        "Yes, the insights gained about the count being maximum during summer, dropping during winter, and decreasing during holidays can help businesses plan their resources, adjust marketing strategies, and optimize operations to meet customer demand, resulting in a positive business impact.\n",
        "\n",
        "Additionally, the understanding that non-functioning days have an insignificant contribution can guide businesses in allocating resources more efficiently."
      ],
      "metadata": {
        "id": "_WtzZ_hCYuh4"
      }
    },
    {
      "cell_type": "markdown",
      "source": [
        "#### Chart - 6"
      ],
      "metadata": {
        "id": "OH-pJp9IphqM"
      }
    },
    {
      "cell_type": "code",
      "source": [
        "# Cheking the relationship between Independent feature: Rainfall & the Dependent Variable\n",
        "plt.figure(figsize=(7,7))\n",
        "bike_df.groupby('Rainfall').mean()['Rented Bike Count'].plot(c='b')\n",
        "plt.xlabel('Rainfall in mm')\n",
        "plt.ylabel('Average rented bike count')\n",
        "plt.xticks(range(0,37,2))\n",
        "plt.show()"
      ],
      "metadata": {
        "id": "kuRf4wtuphqN"
      },
      "execution_count": null,
      "outputs": []
    },
    {
      "cell_type": "markdown",
      "source": [
        "##### 1. Why did you pick the specific chart?"
      ],
      "metadata": {
        "id": "bbFf2-_FphqN"
      }
    },
    {
      "cell_type": "markdown",
      "source": [
        "\n",
        "\n",
        "\n",
        "*   Continuous plot for analyzing the frequency of Rented Bike counts over mm's of Rainfall.\n",
        "\n"
      ],
      "metadata": {
        "id": "loh7H2nzphqN"
      }
    },
    {
      "cell_type": "markdown",
      "source": [
        "##### 2. What is/are the insight(s) found from the chart?"
      ],
      "metadata": {
        "id": "_ouA3fa0phqN"
      }
    },
    {
      "cell_type": "markdown",
      "source": [
        "\n",
        "*   The above plot indicates that despite heavy rainfall, the demand for rented bikes does not decrease. For instance, even with a rainfall of 22-24 mm, there is a significant peak in the number of rented bikes.\n",
        "\n"
      ],
      "metadata": {
        "id": "VECbqPI7phqN"
      }
    },
    {
      "cell_type": "markdown",
      "source": [
        "##### 3. Will the gained insights help creating a positive business impact?\n",
        "Are there any insights that lead to negative growth? Justify with specific reason."
      ],
      "metadata": {
        "id": "Seke61FWphqN"
      }
    },
    {
      "cell_type": "markdown",
      "source": [
        "Yes, the insights gained i.e, the heavy rainfall preventing the decrease in the demand for rented bikes can have a positive business impact.\n",
        "\n",
        "Businesses can leverage this information to optimize their operations during rainy periods and ensure a continuous supply of bikes, meeting customer demands and potentially increasing the revenue."
      ],
      "metadata": {
        "id": "DW4_bGpfphqN"
      }
    },
    {
      "cell_type": "markdown",
      "source": [
        "#### Chart - 7"
      ],
      "metadata": {
        "id": "PIIx-8_IphqN"
      }
    },
    {
      "cell_type": "code",
      "source": [
        "# Cheking the relationship between Independent feature: Wind speed & the Dependent Variable\n",
        "plt.figure(figsize=(7,7))\n",
        "bike_df.groupby('Wind speed').mean()['Rented Bike Count'].plot(c='g')\n",
        "plt.xlabel('Wind speed in m/s')\n",
        "plt.ylabel('Average rented bike count')\n",
        "plt.show()"
      ],
      "metadata": {
        "id": "lqAIGUfyphqO"
      },
      "execution_count": null,
      "outputs": []
    },
    {
      "cell_type": "markdown",
      "source": [
        "##### 1. Why did you pick the specific chart?"
      ],
      "metadata": {
        "id": "t27r6nlMphqO"
      }
    },
    {
      "cell_type": "markdown",
      "source": [
        "*   Continuous plot for analyzing the frequency of Rented Bike counts over m/ses of Wind speed."
      ],
      "metadata": {
        "id": "iv6ro40sphqO"
      }
    },
    {
      "cell_type": "markdown",
      "source": [
        "##### 2. What is/are the insight(s) found from the chart?"
      ],
      "metadata": {
        "id": "r2jJGEOYphqO"
      }
    },
    {
      "cell_type": "markdown",
      "source": [
        "\n",
        "\n",
        "*   The above plot indicates that the demand for rented bikes is evenly distributed regardless of the wind speed. However, there is a spike in bike rentals when the wind speed is at 7 m/s, indicating that people enjoy riding bikes when there is a slight breeze.\n",
        "\n",
        "\n"
      ],
      "metadata": {
        "id": "Po6ZPi4hphqO"
      }
    },
    {
      "cell_type": "markdown",
      "source": [
        "##### 3. Will the gained insights help creating a positive business impact?\n",
        "Are there any insights that lead to negative growth? Justify with specific reason."
      ],
      "metadata": {
        "id": "b0JNsNcRphqO"
      }
    },
    {
      "cell_type": "markdown",
      "source": [
        "Yes, the insights gained i.e, the even distribution of bike rentals regardless of wind speed, with a spike at 7 m/s, can have a positive business impact.\n",
        "\n",
        "Businesses can promote biking as an enjoyable activity during breezy conditions, potentially increasing bike rentals and attracting more customers."
      ],
      "metadata": {
        "id": "xvSq8iUTphqO"
      }
    },
    {
      "cell_type": "markdown",
      "source": [
        "#### Chart - 8"
      ],
      "metadata": {
        "id": "BZR9WyysphqO"
      }
    },
    {
      "cell_type": "code",
      "source": [
        "# Checking relationship between Independent feature: Hour & the Dependent variable\n",
        "fig, ax = plt.subplots(figsize=(7, 7))\n",
        "sns.boxplot(bike_df, x='Hour', y='Rented Bike Count', ax=ax, palette='viridis')\n",
        "ax.set(title='Count of Rented bikes according to Hour')\n",
        "plt.show()"
      ],
      "metadata": {
        "id": "TdPTWpAVphqO"
      },
      "execution_count": null,
      "outputs": []
    },
    {
      "cell_type": "markdown",
      "source": [
        "##### 1. Why did you pick the specific chart?"
      ],
      "metadata": {
        "id": "jj7wYXLtphqO"
      }
    },
    {
      "cell_type": "markdown",
      "source": [
        "\n",
        "*   Box plot for visualizing the count of rented bikes on an hourly basis.\n",
        "\n"
      ],
      "metadata": {
        "id": "Ob8u6rCTphqO"
      }
    },
    {
      "cell_type": "markdown",
      "source": [
        "##### 2. What is/are the insight(s) found from the chart?"
      ],
      "metadata": {
        "id": "eZrbJ2SmphqO"
      }
    },
    {
      "cell_type": "markdown",
      "source": [
        "\n",
        "*   The above plot showcases the usage of rented bikes across different hours throughout the year. It is notable that people tend to use rented bikes during their working hours, specifically from 7 AM to 9 AM and from 5 PM to 7 PM.\n",
        "\n"
      ],
      "metadata": {
        "id": "mZtgC_hjphqO"
      }
    },
    {
      "cell_type": "markdown",
      "source": [
        "##### 3. Will the gained insights help creating a positive business impact?\n",
        "Are there any insights that lead to negative growth? Justify with specific reason."
      ],
      "metadata": {
        "id": "rFu4xreNphqO"
      }
    },
    {
      "cell_type": "markdown",
      "source": [
        "Yes, the insights gained i.e, people tend to use rented bikes during their working hours can have a positive business impact.\n",
        " Businesses can optimize their operations and marketing efforts during these peak hours to meet customer demand, attract more riders, and potentially increase revenue."
      ],
      "metadata": {
        "id": "ey_0qi68phqO"
      }
    },
    {
      "cell_type": "markdown",
      "source": [
        "#### Chart - 9"
      ],
      "metadata": {
        "id": "YJ55k-q6phqO"
      }
    },
    {
      "cell_type": "code",
      "source": [
        "# Checking relationship between Independent feature: Month & the Dependent variable\n",
        "plt.figure(figsize=(7,7))\n",
        "sns.barplot(bike_df, x='Month', y='Rented Bike Count', palette='flare')\n",
        "plt.title('Average count of Bikes Rented per Month')\n",
        "plt.show()"
      ],
      "metadata": {
        "id": "B2aS4O1ophqO"
      },
      "execution_count": null,
      "outputs": []
    },
    {
      "cell_type": "markdown",
      "source": [
        "##### 1. Why did you pick the specific chart?"
      ],
      "metadata": {
        "id": "gCFgpxoyphqP"
      }
    },
    {
      "cell_type": "markdown",
      "source": [
        "\n",
        "*   Bar plot for visualizing the rented bike count over a period of 12 months.\n",
        "\n"
      ],
      "metadata": {
        "id": "TVxDimi2phqP"
      }
    },
    {
      "cell_type": "markdown",
      "source": [
        "##### 2. What is/are the insight(s) found from the chart?"
      ],
      "metadata": {
        "id": "OVtJsKN_phqQ"
      }
    },
    {
      "cell_type": "markdown",
      "source": [
        "\n",
        "*   During Summer season the demand for rented bikes are on hike.\n",
        "*   During Winter season the demand for rented bikes is low.\n",
        "\n"
      ],
      "metadata": {
        "id": "ngGi97qjphqQ"
      }
    },
    {
      "cell_type": "markdown",
      "source": [
        "##### 3. Will the gained insights help creating a positive business impact?\n",
        "Are there any insights that lead to negative growth? Justify with specific reason."
      ],
      "metadata": {
        "id": "lssrdh5qphqQ"
      }
    },
    {
      "cell_type": "markdown",
      "source": [
        "Yes, the insights gained i.e, the demand for rented bikes is high during summer and low during winter can help businesses align their resources and marketing strategies accordingly, maximizing their revenue and creating a positive business impact."
      ],
      "metadata": {
        "id": "tBpY5ekJphqQ"
      }
    },
    {
      "cell_type": "markdown",
      "source": [
        "### **Trivariate Analysis**"
      ],
      "metadata": {
        "id": "s8spNHnETjzE"
      }
    },
    {
      "cell_type": "markdown",
      "source": [
        "#### Chart - 10"
      ],
      "metadata": {
        "id": "U2RJ9gkRphqQ"
      }
    },
    {
      "cell_type": "code",
      "source": [
        "# Checking the relationship between Independent feature: Hour & the Dependent variable for different seasons\n",
        "plt.figure(figsize=(7,7))\n",
        "sns.lineplot(bike_df, x='Hour', y= \"Rented Bike Count\", hue='Seasons', palette='deep', alpha=1)\n",
        "plt.xticks(range(0,24))\n",
        "plt.title('Analysing trend line of \"Rented Bike Count\" w.r.t \"Hour\" for different Seasons')\n",
        "plt.show()"
      ],
      "metadata": {
        "id": "GM7a4YP4phqQ"
      },
      "execution_count": null,
      "outputs": []
    },
    {
      "cell_type": "markdown",
      "source": [
        "##### 1. Why did you pick the specific chart?"
      ],
      "metadata": {
        "id": "1M8mcRywphqQ"
      }
    },
    {
      "cell_type": "markdown",
      "source": [
        "\n",
        "\n",
        "*   Line plot for analyzing the count of rented bikes for different hours over 4 different seasons.\n",
        "\n"
      ],
      "metadata": {
        "id": "8agQvks0phqQ"
      }
    },
    {
      "cell_type": "markdown",
      "source": [
        "##### 2. What is/are the insight(s) found from the chart?"
      ],
      "metadata": {
        "id": "tgIPom80phqQ"
      }
    },
    {
      "cell_type": "markdown",
      "source": [
        "\n",
        "*   The analysis reveals that the use of rented bikes is significantly high during the summer season with peak demand during 7am-9am and 5pm-7pm.\n",
        "\n",
        "*   However, during the winter season, the use of rented bikes is quite low due to snowfall.\n",
        "\n"
      ],
      "metadata": {
        "id": "Qp13pnNzphqQ"
      }
    },
    {
      "cell_type": "markdown",
      "source": [
        "##### 3. Will the gained insights help creating a positive business impact?\n",
        "Are there any insights that lead to negative growth? Justify with specific reason."
      ],
      "metadata": {
        "id": "JMzcOPDDphqR"
      }
    },
    {
      "cell_type": "markdown",
      "source": [
        "Yes, the insights gained i.e, the high demand for rented bikes during the summer season and specific peak hours, as well as low demand during the winter season due to snowfall, can help businesses optimize operations, target marketing efforts, and adjust resources accordingly, leading to a positive business impact."
      ],
      "metadata": {
        "id": "R4Ka1PC2phqR"
      }
    },
    {
      "cell_type": "markdown",
      "source": [
        "#### Chart - 11"
      ],
      "metadata": {
        "id": "x-EpHcCOp1ci"
      }
    },
    {
      "cell_type": "code",
      "source": [
        "# Checking the relationship between Independent feature: Hour & the Dependent variable for Holidays & No Holidays\n",
        "plt.figure(figsize=(7,7))\n",
        "sns.pointplot(bike_df, x='Hour', y= \"Rented Bike Count\", hue='Holiday', palette='dark')\n",
        "plt.title('Analysing trend line of \"Rented Bike Count\" w.r.t \"Hour\" seperately for \"Holiday\" and \"No Holiday\" ')\n",
        "plt.show()"
      ],
      "metadata": {
        "id": "mAQTIvtqp1cj"
      },
      "execution_count": null,
      "outputs": []
    },
    {
      "cell_type": "markdown",
      "source": [
        "##### 1. Why did you pick the specific chart?"
      ],
      "metadata": {
        "id": "X_VqEhTip1ck"
      }
    },
    {
      "cell_type": "markdown",
      "source": [
        "\n",
        "*   Point plot for analyzing the count of rented bikes for different hours over Holidays & Non-Holidays.\n",
        "\n"
      ],
      "metadata": {
        "id": "-vsMzt_np1ck"
      }
    },
    {
      "cell_type": "markdown",
      "source": [
        "##### 2. What is/are the insight(s) found from the chart?"
      ],
      "metadata": {
        "id": "8zGJKyg5p1ck"
      }
    },
    {
      "cell_type": "markdown",
      "source": [
        "\n",
        "*   During Holidays People prefer to use rented bikes after 12 pm.\n",
        "\n"
      ],
      "metadata": {
        "id": "ZYdMsrqVp1ck"
      }
    },
    {
      "cell_type": "markdown",
      "source": [
        "##### 3. Will the gained insights help creating a positive business impact?\n",
        "Are there any insights that lead to negative growth? Justify with specific reason."
      ],
      "metadata": {
        "id": "PVzmfK_Ep1ck"
      }
    },
    {
      "cell_type": "markdown",
      "source": [
        "Yes, the insights gained i.e, people prefer to use rented bikes after 12 pm during holidays can help businesses adjust their operational hours and allocate resources effectively, catering to the increased demand and potentially creating a positive business impact."
      ],
      "metadata": {
        "id": "druuKYZpp1ck"
      }
    },
    {
      "cell_type": "markdown",
      "source": [
        "#### Chart - 12"
      ],
      "metadata": {
        "id": "n3dbpmDWp1ck"
      }
    },
    {
      "cell_type": "code",
      "source": [
        "# Checking the relationship between Independent feature: Hour & the Dependent variable for Weekend & No Weekend\n",
        "plt.figure(figsize=(7,7))\n",
        "sns.pointplot(bike_df, x='Hour', y= \"Rented Bike Count\", hue='Weekend',palette='rocket')\n",
        "plt.title('Analysing trend line of \"Rented Bike Count\" w.r.t \"Hour\" sperately for \"weekdays\" and \"weekend\" ')\n",
        "plt.show()"
      ],
      "metadata": {
        "id": "bwevp1tKp1ck"
      },
      "execution_count": null,
      "outputs": []
    },
    {
      "cell_type": "markdown",
      "source": [
        "##### 1. Why did you pick the specific chart?"
      ],
      "metadata": {
        "id": "ylSl6qgtp1ck"
      }
    },
    {
      "cell_type": "markdown",
      "source": [
        "\n",
        "\n",
        "\n",
        "*   Point plot for analyzing the count of rented bikes for different hours over Weekends and Non-Weekend days.\n",
        "\n",
        "\n"
      ],
      "metadata": {
        "id": "m2xqNkiQp1ck"
      }
    },
    {
      "cell_type": "markdown",
      "source": [
        "##### 2. What is/are the insight(s) found from the chart?"
      ],
      "metadata": {
        "id": "ZWILFDl5p1ck"
      }
    },
    {
      "cell_type": "markdown",
      "source": [
        "\n",
        "\n",
        "\n",
        "*  The demand for rented bikes is higher on weekdays and more specifically between 7am-9am and 5pm-7pm.\n",
        "*  On weekends,the demand for rented bikes is generally lower, especially during the morning hours but rise thereafter.  \n",
        "  \n",
        "\n",
        "\n",
        "\n",
        "\n"
      ],
      "metadata": {
        "id": "x-lUsV2mp1ck"
      }
    },
    {
      "cell_type": "markdown",
      "source": [
        "##### 3. Will the gained insights help creating a positive business impact?\n",
        "Are there any insights that lead to negative growth? Justify with specific reason."
      ],
      "metadata": {
        "id": "M7G43BXep1ck"
      }
    },
    {
      "cell_type": "markdown",
      "source": [
        "Yes, the insights gained i.e, a higher demand for rented bikes on weekdays, specifically during peak commuting hours, and lower demand on weekends, especially in the morning, can help businesses optimize their operations, staffing, and marketing strategies to cater to these patterns, potentially leading to a positive business impact."
      ],
      "metadata": {
        "id": "5wwDJXsLp1cl"
      }
    },
    {
      "cell_type": "markdown",
      "source": [
        "### **Multivariate Analysis**"
      ],
      "metadata": {
        "id": "ly6SDigtXOqn"
      }
    },
    {
      "cell_type": "markdown",
      "source": [
        "#### Chart - 13"
      ],
      "metadata": {
        "id": "Ag9LCva-p1cl"
      }
    },
    {
      "cell_type": "code",
      "source": [
        "# Checking the correlation between multiple Independent variables\n",
        "plt.figure(figsize=(7,7))\n",
        "plt.title('Correlation Chart')\n",
        "sns.heatmap(bike_df[bike_df.describe().columns].corr(),annot=True,annot_kws={'size': 9},linewidths=3,square=True,fmt='.2f',cmap='PiYG')\n",
        "plt.show()"
      ],
      "metadata": {
        "id": "EUfxeq9-p1cl"
      },
      "execution_count": null,
      "outputs": []
    },
    {
      "cell_type": "markdown",
      "source": [
        "##### 2. What is/are the insight(s) found from the chart?"
      ],
      "metadata": {
        "id": "2cELzS2fp1cl"
      }
    },
    {
      "cell_type": "markdown",
      "source": [
        "*  We observe that columns 'Temperature' and 'Dew point temperature' are highly positively correlated, with a correlation coefficient of 0.91.\n",
        "*  Visibility' and 'Humidity' have high negative correlation as compared to others, with a correlation coefficient of -0.54."
      ],
      "metadata": {
        "id": "ozQPc2_Ip1cl"
      }
    },
    {
      "cell_type": "code",
      "source": [
        "# Using VIF to remove Multicollinearity\n",
        "def calc_vif(X):\n",
        "  vif =pd.DataFrame()\n",
        "  vif['Features']= X.columns\n",
        "  vif['VIF']=[variance_inflation_factor(X.values,i) for i in range(X.shape[1])]\n",
        "  return vif"
      ],
      "metadata": {
        "id": "pkbLYNpVYLBj"
      },
      "execution_count": null,
      "outputs": []
    },
    {
      "cell_type": "code",
      "source": [
        "calc_vif(bike_df[[i for i in bike_df.describe().columns if i not in [\"Rented Bike Count\"]]])"
      ],
      "metadata": {
        "id": "lGeHmjoSY2PM"
      },
      "execution_count": null,
      "outputs": []
    },
    {
      "cell_type": "code",
      "source": [
        "bike_df.drop(columns = ['Dew point temperature'],axis = 1, inplace = True)"
      ],
      "metadata": {
        "id": "LgADNXGMZICW"
      },
      "execution_count": null,
      "outputs": []
    },
    {
      "cell_type": "code",
      "source": [
        "calc_vif(bike_df[[i for i in bike_df.describe().columns if i not in [\"Rented Bike Count\"]]])"
      ],
      "metadata": {
        "id": "SKlO-ThDaCiq"
      },
      "execution_count": null,
      "outputs": []
    },
    {
      "cell_type": "code",
      "source": [
        "bike_df.drop(columns = ['Humidity'],axis = 1, inplace = True)"
      ],
      "metadata": {
        "id": "l55SL9WvaFxm"
      },
      "execution_count": null,
      "outputs": []
    },
    {
      "cell_type": "code",
      "source": [
        "calc_vif(bike_df[[i for i in bike_df.describe().columns if i not in [\"Rented Bike Count\"]]])"
      ],
      "metadata": {
        "id": "R9GFNpckaIOr"
      },
      "execution_count": null,
      "outputs": []
    },
    {
      "cell_type": "markdown",
      "source": [
        "## ***5. Hypothesis Testing***"
      ],
      "metadata": {
        "id": "g-ATYxFrGrvw"
      }
    },
    {
      "cell_type": "markdown",
      "source": [
        "### Based on your chart experiments, define three hypothetical statements from the dataset. In the next three questions, perform hypothesis testing to obtain final conclusion about the statements through your code and statistical testing."
      ],
      "metadata": {
        "id": "Yfr_Vlr8HBkt"
      }
    },
    {
      "cell_type": "markdown",
      "source": [
        "### Hypothetical Statement - 1"
      ],
      "metadata": {
        "id": "8yEUt7NnHlrM"
      }
    },
    {
      "cell_type": "markdown",
      "source": [
        "#### 1. State Your research hypothesis as a null hypothesis and alternate hypothesis."
      ],
      "metadata": {
        "id": "tEA2Xm5dHt1r"
      }
    },
    {
      "cell_type": "markdown",
      "source": [
        "**Null Hypothesis (H0)**: There is no significant relationship between the independent variables and the 'Rented Bike Count' (dependent variable).\n",
        "\n",
        "**Alternate Hypothesis (Ha)**: There is a significant relationship between the independent variables and the 'Rented Bike Count' (dependent variable)."
      ],
      "metadata": {
        "id": "HI9ZP0laH0D-"
      }
    },
    {
      "cell_type": "markdown",
      "source": [
        "#### 2. Perform an appropriate statistical test."
      ],
      "metadata": {
        "id": "I79__PHVH19G"
      }
    },
    {
      "cell_type": "markdown",
      "source": [
        "####**Ordinary Least Square Model**"
      ],
      "metadata": {
        "id": "DA8nV5EobWU7"
      }
    },
    {
      "cell_type": "code",
      "source": [
        "# Add a constant column to the DataFrame for the intercept term\n",
        "bike_df = sm.add_constant(bike_df)\n",
        "\n",
        "independent_vars=bike_df[bike_df.describe().columns].drop('Rented Bike Count',axis=1)\n",
        "dependent_var=bike_df['Rented Bike Count']\n",
        "\n",
        "# Perform the regression analysis\n",
        "model = sm.OLS(dependent_var,independent_vars)\n",
        "results = model.fit()\n",
        "\n",
        "# Obtain the p-values\n",
        "p_values = results.pvalues\n",
        "\n",
        "print(round(p_values,5))"
      ],
      "metadata": {
        "id": "oZrfquKtyian"
      },
      "execution_count": null,
      "outputs": []
    },
    {
      "cell_type": "code",
      "source": [
        "results.summary()"
      ],
      "metadata": {
        "id": "8Dy6s9z9a6RS"
      },
      "execution_count": null,
      "outputs": []
    },
    {
      "cell_type": "markdown",
      "source": [
        "**Conclusion**\n",
        "* For the 'Solar_Radiation' variable, the p-value is 0.53238, which is greater than 0.05. Therefore, there is not enough evidence to conclude a significant relationship between 'Solar_Radiation' and the 'Rented Bike Count'.\n",
        "*Similarly, for the 'Snowfall' variable, the p-value is 0.10884, which is also greater than 0.05. Hence, there is not enough evidence to establish a significant relationship between 'Snowfall' and the 'Rented Bike Count'.\n",
        "\n",
        "\n",
        "\n",
        "In summary, based on the given p-values, we can reject the null hypothesis for the independent variables 'Hour', 'Temperature', 'Wind_speed', 'Visibility', 'Rainfall', 'Month', and 'Weekend'. This implies that there is a significant relationship between these independent variables and the 'Rented Bike Count'. However, there is insufficient evidence to reject the null hypothesis for the 'Solar_Radiation' and 'Snowfall' variables, indicating that these variables may not have a significant relationship with the 'Rented Bike Count'."
      ],
      "metadata": {
        "id": "cikPxjyYbA0P"
      }
    },
    {
      "cell_type": "markdown",
      "source": [
        "### Hypothetical Statement - 2"
      ],
      "metadata": {
        "id": "4_0_7-oCpUZd"
      }
    },
    {
      "cell_type": "markdown",
      "source": [
        "#### 1. State Your research hypothesis as a null hypothesis and alternate hypothesis."
      ],
      "metadata": {
        "id": "hwyV_J3ipUZe"
      }
    },
    {
      "cell_type": "markdown",
      "source": [
        "**Null hypothesis (H0)**: The dependent variable is normally distributed in the population.\n",
        "\n",
        "**Alternative hypothesis (Ha)**: The dependent variable is not normally distributed in the population."
      ],
      "metadata": {
        "id": "FnpLGJ-4pUZe"
      }
    },
    {
      "cell_type": "markdown",
      "source": [
        "#### 2. Perform an appropriate statistical test."
      ],
      "metadata": {
        "id": "3yB-zSqbpUZe"
      }
    },
    {
      "cell_type": "markdown",
      "source": [
        "####**Shapiro-Wilk test**"
      ],
      "metadata": {
        "id": "eUazQ9SVbYjS"
      }
    },
    {
      "cell_type": "code",
      "source": [
        "# Perform Statistical Test to obtain P-Value\n",
        "\n",
        "from scipy import stats\n",
        "\n",
        "# Perform the Shapiro-Wilk test\n",
        "statistic, p_value = stats.shapiro(bike_df['Rented Bike Count'])\n",
        "\n",
        "print(\"Shapiro-Wilk Test\")\n",
        "print(\"Test statistic:\", statistic)\n",
        "print(\"p-value:\", p_value)"
      ],
      "metadata": {
        "id": "sWxdNTXNpUZe"
      },
      "execution_count": null,
      "outputs": []
    },
    {
      "cell_type": "markdown",
      "source": [
        "**Conclusion**\n",
        "\n",
        "\n",
        "*   Based on the Shapiro-Wilk test results, with a test statistic of 0.8822 and a p-value of 0.0, the p-value is less than the chosen significance level (e.g., 0.05). Therefore, we would reject the null hypothesis (H0) that the dependent variable is normally distributed.\n",
        "\n",
        "\n"
      ],
      "metadata": {
        "id": "gvaYOMj6brex"
      }
    },
    {
      "cell_type": "code",
      "source": [
        "bike_df.drop('const',axis=1,inplace=True)"
      ],
      "metadata": {
        "id": "B9D_4Ffr3zE5"
      },
      "execution_count": null,
      "outputs": []
    },
    {
      "cell_type": "markdown",
      "source": [
        "## ***6. Feature Engineering & Data Pre-processing***"
      ],
      "metadata": {
        "id": "yLjJCtPM0KBk"
      }
    },
    {
      "cell_type": "markdown",
      "source": [
        "### 1. Handling Outliers"
      ],
      "metadata": {
        "id": "id1riN9m0vUs"
      }
    },
    {
      "cell_type": "code",
      "source": [
        "# Treatment of Outliers in our dependent Variable(applying square root transformation)\n",
        "fig,(ax1,ax2)=plt.subplots(1,2,figsize=(16,6))\n",
        "sns.kdeplot(np.sqrt(bike_df['Rented Bike Count']),color='y',fill=True,ax=ax1)\n",
        "ax1.axvline(np.sqrt(bike_df['Rented Bike Count']).mean(), color='green', linestyle='dashed', linewidth=2)\n",
        "ax1.axvline(np.sqrt(bike_df['Rented Bike Count']).median(), color='blue', linestyle='dashed', linewidth=2)\n",
        "sns.boxplot(x= np.sqrt(bike_df['Rented Bike Count']),color='y')\n",
        "plt.show()"
      ],
      "metadata": {
        "id": "iRsAHk1K0fpS"
      },
      "execution_count": null,
      "outputs": []
    },
    {
      "cell_type": "markdown",
      "source": [
        "### 2. Categorical Encoding"
      ],
      "metadata": {
        "id": "89xtkJwZ18nB"
      }
    },
    {
      "cell_type": "code",
      "source": [
        "#ONE HOT ENCODING\n",
        "cat_features=['Hour', 'Seasons', 'Holiday', 'Functioning Day', 'Month',\n",
        "       'Weekend']\n",
        "def one_hot_encoding(data, column):\n",
        "    data = pd.concat([data, pd.get_dummies(data[column], prefix=column, drop_first=True)], axis=1)\n",
        "    data = data.drop([column], axis=1)\n",
        "    return data"
      ],
      "metadata": {
        "id": "21JmIYMG2hEo"
      },
      "execution_count": null,
      "outputs": []
    },
    {
      "cell_type": "code",
      "source": [
        "for col in cat_features:\n",
        "    bike_df = one_hot_encoding(bike_df, col)\n",
        "bike_df.head()"
      ],
      "metadata": {
        "id": "SbrBlPg04CPP"
      },
      "execution_count": null,
      "outputs": []
    },
    {
      "cell_type": "code",
      "source": [
        "bike_df.columns"
      ],
      "metadata": {
        "id": "ujhgT7FXcYnD"
      },
      "execution_count": null,
      "outputs": []
    },
    {
      "cell_type": "markdown",
      "source": [
        "### 3. Data Scaling"
      ],
      "metadata": {
        "id": "rMDnDkt2B6du"
      }
    },
    {
      "cell_type": "code",
      "source": [
        "# Scaling your data\n",
        "features = list(set(bike_df.columns) - {'Rented Bike Count'})\n",
        "from scipy.stats import zscore\n",
        "bike_df[features]=bike_df[features].apply(zscore)"
      ],
      "metadata": {
        "id": "dL9LWpySC6x_"
      },
      "execution_count": null,
      "outputs": []
    },
    {
      "cell_type": "markdown",
      "source": [
        "## ***7. ML Model Implementation***"
      ],
      "metadata": {
        "id": "VfCC591jGiD4"
      }
    },
    {
      "cell_type": "code",
      "source": [
        "X=bike_df.drop('Rented Bike Count',axis=1)\n",
        "y=np.sqrt(bike_df['Rented Bike Count'])"
      ],
      "metadata": {
        "id": "7ebyywQieS1U"
      },
      "execution_count": null,
      "outputs": []
    },
    {
      "cell_type": "code",
      "source": [
        "# TRAIN TEST SPLIT\n",
        "X_train,X_test,y_train,y_test= train_test_split(X,y,test_size=0.25,random_state=19)\n",
        "print(X_train.shape)\n",
        "print(X_test.shape)"
      ],
      "metadata": {
        "id": "rZ7wIBAy2bI2"
      },
      "execution_count": null,
      "outputs": []
    },
    {
      "cell_type": "markdown",
      "source": [
        "### ML Model - 1"
      ],
      "metadata": {
        "id": "OB4l2ZhMeS1U"
      }
    },
    {
      "cell_type": "markdown",
      "source": [
        "### **Linear Regression**"
      ],
      "metadata": {
        "id": "VZYxREzz2gvV"
      }
    },
    {
      "cell_type": "code",
      "source": [
        "lr=LinearRegression()\n",
        "lr.fit(X_train,y_train)"
      ],
      "metadata": {
        "id": "Z7_hlkBQ2ikO"
      },
      "execution_count": null,
      "outputs": []
    },
    {
      "cell_type": "code",
      "source": [
        "#check the score\n",
        "lr.score(X_train,y_train)"
      ],
      "metadata": {
        "id": "CQteiIvd7hqN"
      },
      "execution_count": null,
      "outputs": []
    },
    {
      "cell_type": "code",
      "source": [
        "#check the coefficient\n",
        "lr.coef_"
      ],
      "metadata": {
        "id": "uoMJf91k7kn0"
      },
      "execution_count": null,
      "outputs": []
    },
    {
      "cell_type": "code",
      "source": [
        "# Prediction\n",
        "y_pred_train= lr.predict(X_train)\n",
        "y_pred_test= lr.predict(X_test)"
      ],
      "metadata": {
        "id": "vrFNrPkv7nQf"
      },
      "execution_count": null,
      "outputs": []
    },
    {
      "cell_type": "code",
      "source": [
        "# Metrics evaluation for Train set\n",
        "# 1. mean_squared_error\n",
        "mse_lr= mean_squared_error(y_train,y_pred_train)\n",
        "print('MSE :' , mse_lr)\n",
        "#2. Root_mean_squared_error\n",
        "rmse_lr=np.sqrt(mse_lr)\n",
        "print('RMSE :' , rmse_lr)\n",
        "#3. mean_absolute_error\n",
        "mae_lr=mean_absolute_error(y_train,y_pred_train)\n",
        "print('MAE :' ,mae_lr)\n",
        "#4. coefficient of determination(r2_score)\n",
        "r2_lr=r2_score(y_train,y_pred_train)\n",
        "print('R2 :' ,r2_lr)\n",
        "#5. adjusted  coefficient of determination\n",
        "adjusted_r2_lr=(1-(1-r2_score(y_train,y_pred_train))*((X_train.shape[0]-1)/(X_train.shape[0]-X_train.shape[1]-1)))\n",
        "print('Adjusted R2 :' ,adjusted_r2_lr)"
      ],
      "metadata": {
        "id": "jiSt2UX47pcL"
      },
      "execution_count": null,
      "outputs": []
    },
    {
      "cell_type": "code",
      "source": [
        "#Storing\n",
        "lr_dict={'Model':'Linear Regression','MAE':round(mae_lr,2),'MSE':round(mse_lr,2),'RMSE':round(rmse_lr,2),'R2_score':round(r2_lr,2),'Adjusted R2_score':round(adjusted_r2_lr,2)}\n",
        "training_df=pd.DataFrame(lr_dict,index=[1])\n",
        "training_df"
      ],
      "metadata": {
        "id": "iKv3jKQR74Rs"
      },
      "execution_count": null,
      "outputs": []
    },
    {
      "cell_type": "code",
      "source": [
        "# Metrics evaluation for Test set\n",
        "# 1. mean_squared_error\n",
        "mse_lr= mean_squared_error(y_test,y_pred_test)\n",
        "print('MSE :' , mse_lr)\n",
        "#2. Root_mean_squared_error\n",
        "rmse_lr=np.sqrt(mse_lr)\n",
        "print('RMSE :' , rmse_lr)\n",
        "#3. mean_absolute_error\n",
        "mae_lr=mean_absolute_error(y_test,y_pred_test)\n",
        "print('MAE :' ,mae_lr)\n",
        "#4. coefficient of determination(r2_score)\n",
        "r2_lr=r2_score(y_test,y_pred_test)\n",
        "print('R2 :' ,r2_lr)\n",
        "#5. adjusted  coefficient of determination\n",
        "adjusted_r2_lr=(1-(1-r2_score(y_test,y_pred_test))*((X_train.shape[0]-1)/(X_train.shape[0]-X_train.shape[1]-1)))\n",
        "print('Adjusted R2 :' ,adjusted_r2_lr)"
      ],
      "metadata": {
        "id": "pJW74ndR7-RH"
      },
      "execution_count": null,
      "outputs": []
    },
    {
      "cell_type": "code",
      "source": [
        "#Storing\n",
        "lr_dict2={'Model':'Linear Regression','MAE':round(mae_lr,2),'MSE':round(mse_lr,2),'RMSE':round(rmse_lr,2),'R2_score':round(r2_lr,2),'Adjusted R2_score':round(adjusted_r2_lr,2)}\n",
        "test_df=pd.DataFrame(lr_dict2,index=[1])\n",
        "test_df"
      ],
      "metadata": {
        "id": "cT8tboSB8K38"
      },
      "execution_count": null,
      "outputs": []
    },
    {
      "cell_type": "markdown",
      "source": [
        "### **Concluding Remark:**\n",
        "\n",
        "* The linear regression model shows moderate performance on both the training and test sets.\n",
        "* The model achieves an R-squared (R2) value of approximately 0.76, indicating that around 76% of the variance in the target variable is explained by the independent variables.\n",
        "* The mean squared error (MSE) values are 36.49 (training set) and 37.49 (test set), suggesting moderate errors in the predictions.\n",
        "* The root mean squared error (RMSE) values are around 6.04 and 6.12, indicating the average magnitude of the errors.\n",
        "* The mean absolute error (MAE) values are approximately 4.55 and 4.56, representing the average absolute deviation of the predictions.\n",
        "* The adjusted R-squared values account for the number of predictors in the model, showing a similar pattern.\n",
        "* Overall, further analysis and model refinement may be beneficial to improve the performance."
      ],
      "metadata": {
        "id": "DeJaQnpY8GQt"
      }
    },
    {
      "cell_type": "code",
      "source": [
        "# Checking Heteroscedasticity\n",
        "residuals = y_test - y_pred_test\n",
        "sns.scatterplot(x=y_pred_test, y=residuals,color='salmon')\n",
        "\n",
        "# Add a horizontal line at y=0\n",
        "plt.axhline(y=0, color='red', linestyle='--')\n",
        "\n",
        "\n",
        "plt.xlabel('Predicted Values')\n",
        "plt.ylabel('Residuals')\n",
        "plt.title('Residual Plot')\n",
        "\n",
        "plt.show()"
      ],
      "metadata": {
        "id": "fEsqvNwN8Vg8"
      },
      "execution_count": null,
      "outputs": []
    },
    {
      "cell_type": "markdown",
      "source": [
        "* **Since,the  points in the scatter plot are more or less evenly distributed on both sides of the line y=0, it suggests that the residuals have relatively consistent variability across the range of predicted values. This indicates homoscedasticity rather than heteroscedasticity**."
      ],
      "metadata": {
        "id": "dwOq1OZU8chz"
      }
    },
    {
      "cell_type": "code",
      "source": [
        "plt.figure(figsize=(16,10))\n",
        "plt.scatter(range(len(y_pred_test)),y_pred_test,s=20,c='green',label='Predicted')\n",
        "plt.scatter(range(len(y_test)), y_test, s=20, c='red', label='Actual')\n",
        "plt.legend()\n",
        "plt.xlabel('number of test data')\n",
        "plt.show()"
      ],
      "metadata": {
        "id": "EbhuV6xG8gH8"
      },
      "execution_count": null,
      "outputs": []
    },
    {
      "cell_type": "markdown",
      "source": [
        "### ML Model - 2"
      ],
      "metadata": {
        "id": "8CTWvKCu9DPq"
      }
    },
    {
      "cell_type": "markdown",
      "source": [
        "### **Lasso Regression(L1 Regularization)**"
      ],
      "metadata": {
        "id": "dJ2tPlVmpsJ0"
      }
    },
    {
      "cell_type": "code",
      "source": [
        "lasso = Lasso(alpha=0.1,max_iter=3500)\n",
        "lasso.fit(X_train,y_train)"
      ],
      "metadata": {
        "id": "CGgjSLj49FHF"
      },
      "execution_count": null,
      "outputs": []
    },
    {
      "cell_type": "code",
      "source": [
        "#check the score\n",
        "lasso.score(X_train,y_train)"
      ],
      "metadata": {
        "id": "ziIketDz9J03"
      },
      "execution_count": null,
      "outputs": []
    },
    {
      "cell_type": "code",
      "source": [
        "# Prediction\n",
        "y_pred_train_lasso= lasso.predict(X_train)\n",
        "y_pred_test_lasso= lasso.predict(X_test)"
      ],
      "metadata": {
        "id": "vbqJabK79LiA"
      },
      "execution_count": null,
      "outputs": []
    },
    {
      "cell_type": "code",
      "source": [
        "# Metrics evaluation for Train set\n",
        "# 1. mean_squared_error\n",
        "mse_lasso= mean_squared_error(y_train,y_pred_train_lasso)\n",
        "print('MSE :' , mse_lasso)\n",
        "#2. Root_mean_squared_error\n",
        "rmse_lasso=np.sqrt(mse_lasso)\n",
        "print('RMSE :' , rmse_lasso)\n",
        "#3. mean_absolute_error\n",
        "mae_lasso=mean_absolute_error(y_train,y_pred_train_lasso)\n",
        "print('MAE :' ,mae_lasso)\n",
        "#4. coefficient of determination(r2_score)\n",
        "r2_lasso=r2_score(y_train,y_pred_train_lasso)\n",
        "print('R2 :' ,r2_lasso)\n",
        "#5. adjusted  coefficient of determination\n",
        "adjusted_r2_lasso=(1-(1-r2_score(y_train,y_pred_train_lasso))*((X_train.shape[0]-1)/(X_train.shape[0]-X_train.shape[1]-1)))\n",
        "print('Adjusted R2 :' ,adjusted_r2_lasso)"
      ],
      "metadata": {
        "id": "sQc6CcTh9Ouo"
      },
      "execution_count": null,
      "outputs": []
    },
    {
      "cell_type": "code",
      "source": [
        "#Storing\n",
        "lasso_dict={'Model':'Lasso Regression','MAE':round(mae_lasso,2),'MSE':round(mse_lasso,2),'RMSE':round(rmse_lasso,2),'R2_score':round(r2_lasso,2),'Adjusted R2_score':round(adjusted_r2_lasso,2)}\n",
        "training_df=training_df.append(lasso_dict,ignore_index=True)\n",
        "training_df"
      ],
      "metadata": {
        "id": "qCtN47mW9Yop"
      },
      "execution_count": null,
      "outputs": []
    },
    {
      "cell_type": "code",
      "source": [
        "# Metrics evaluation for Test set\n",
        "# 1. mean_squared_error\n",
        "mse_lasso= mean_squared_error(y_test,y_pred_test_lasso)\n",
        "print('MSE :' , mse_lasso)\n",
        "#2. Root_mean_squared_error\n",
        "rmse_lasso=np.sqrt(mse_lasso)\n",
        "print('RMSE :' , rmse_lasso)\n",
        "#3. mean_absolute_error\n",
        "mae_lasso=mean_absolute_error(y_test,y_pred_test_lasso)\n",
        "print('MAE :' ,mae_lasso)\n",
        "#4. coefficient of determination(r2_score)\n",
        "r2_lasso=r2_score(y_test,y_pred_test_lasso)\n",
        "print('R2 :' ,r2_lasso)\n",
        "#5. adjusted  coefficient of determination\n",
        "adjusted_r2_lasso=(1-(1-r2_score(y_test,y_pred_test_lasso))*((X_test.shape[0]-1)/(X_test.shape[0]-X_test.shape[1]-1)))\n",
        "print('Adjusted R2 :' ,adjusted_r2_lasso)"
      ],
      "metadata": {
        "id": "F4pgFGIQ9gFK"
      },
      "execution_count": null,
      "outputs": []
    },
    {
      "cell_type": "code",
      "source": [
        "#Storing\n",
        "lasso_dict2={'Model':'Lasso Regression','MAE':round(mae_lasso,2),'MSE':round(mse_lasso,2),'RMSE':round(rmse_lasso,2),'R2_score':round(r2_lasso,2),'Adjusted R2_score':round(adjusted_r2_lasso,2)}\n",
        "test_df=test_df.append(lasso_dict2,ignore_index=True)\n",
        "test_df"
      ],
      "metadata": {
        "id": "vCK7nDbf9jwQ"
      },
      "execution_count": null,
      "outputs": []
    },
    {
      "cell_type": "markdown",
      "source": [
        "### ML Model - 3"
      ],
      "metadata": {
        "id": "Fze-IPXLpx6K"
      }
    },
    {
      "cell_type": "markdown",
      "source": [
        "###**Ridge Regression(L2 Regularization)**"
      ],
      "metadata": {
        "id": "i9RsVvnm9skF"
      }
    },
    {
      "cell_type": "code",
      "source": [
        "ridge=Ridge(alpha=0.1)\n",
        "ridge.fit(X_train,y_train)"
      ],
      "metadata": {
        "id": "1ljlZn5q9u9Z"
      },
      "execution_count": null,
      "outputs": []
    },
    {
      "cell_type": "code",
      "source": [
        "#check the score\n",
        "ridge.score(X_train,y_train)"
      ],
      "metadata": {
        "id": "IWe8LB6i9z1Z"
      },
      "execution_count": null,
      "outputs": []
    },
    {
      "cell_type": "code",
      "source": [
        "# Prediction\n",
        "y_pred_train_ridge= ridge.predict(X_train)\n",
        "y_pred_test_ridge= ridge.predict(X_test)"
      ],
      "metadata": {
        "id": "F9EG8kTx91sf"
      },
      "execution_count": null,
      "outputs": []
    },
    {
      "cell_type": "code",
      "source": [
        "# Metrics Evaluation for Train set\n",
        "# 1. mean_squared_error\n",
        "mse_ridge= mean_squared_error(y_train,y_pred_train_ridge)\n",
        "print('MSE :' , mse_ridge)\n",
        "#2. Root_mean_squared_error\n",
        "rmse_ridge=np.sqrt(mse_ridge)\n",
        "print('RMSE :' , rmse_ridge)\n",
        "#3. mean_absolute_error\n",
        "mae_ridge=mean_absolute_error(y_train,y_pred_train_ridge)\n",
        "print('MAE :' ,mae_ridge)\n",
        "#4. coefficient of determination(r2_score)\n",
        "r2_ridge=r2_score(y_train,y_pred_train_ridge)\n",
        "print('R2 :' ,r2_ridge)\n",
        "#5. adjusted  coefficient of determination\n",
        "adjusted_r2_ridge=(1-(1-r2_score(y_train,y_pred_train_ridge))*((X_train.shape[0]-1)/(X_train.shape[0]-X_train.shape[1]-1)))\n",
        "print('Adjusted R2 :' ,adjusted_r2_ridge)"
      ],
      "metadata": {
        "id": "mg79nBMA94Dd"
      },
      "execution_count": null,
      "outputs": []
    },
    {
      "cell_type": "code",
      "source": [
        "#Storing\n",
        "ridge_dict={'Model':'Ridge Regression','MAE':round(mae_ridge,2),'MSE':round(mse_ridge,2),'RMSE':round(rmse_ridge,2),'R2_score':round(r2_ridge,2),'Adjusted R2_score':round(adjusted_r2_ridge,2)}\n",
        "training_df=training_df.append(ridge_dict,ignore_index=True)"
      ],
      "metadata": {
        "id": "VQivpKU_9-FH"
      },
      "execution_count": null,
      "outputs": []
    },
    {
      "cell_type": "code",
      "source": [
        "# Metrics Evaluation for Test set\n",
        "# 1. mean_squared_error\n",
        "mse_ridge= mean_squared_error(y_test,y_pred_test_ridge)\n",
        "print('MSE :' , mse_ridge)\n",
        "#2. Root_mean_squared_error\n",
        "rmse_ridge=np.sqrt(mse_ridge)\n",
        "print('RMSE :' , rmse_ridge)\n",
        "#3. mean_absolute_error\n",
        "mae_ridge=mean_absolute_error(y_test,y_pred_test_ridge)\n",
        "print('MAE :' ,mae_ridge)\n",
        "#4. coefficient of determination(r2_score)\n",
        "r2_ridge=r2_score(y_test,y_pred_test_ridge)\n",
        "print('R2 :' ,r2_ridge)\n",
        "#5. adjusted  coefficient of determination\n",
        "adjusted_r2_ridge=(1-(1-r2_score(y_test,y_pred_test_ridge))*((X_test.shape[0]-1)/(X_test.shape[0]-X_test.shape[1]-1)))\n",
        "print('Adjusted R2 :' ,adjusted_r2_ridge)"
      ],
      "metadata": {
        "id": "P4eOwxjB-AD-"
      },
      "execution_count": null,
      "outputs": []
    },
    {
      "cell_type": "code",
      "source": [
        "#Storing\n",
        "ridge_dict2={'Model':'Ridge Regression','MAE':round(mae_ridge,2),'MSE':round(mse_ridge,2),'RMSE':round(rmse_ridge,2),'R2_score':round(r2_ridge,2),'Adjusted R2_score':round(adjusted_r2_ridge,2)}\n",
        "test_df=test_df.append(ridge_dict2,ignore_index=True)"
      ],
      "metadata": {
        "id": "Vf81OBy7-GVz"
      },
      "execution_count": null,
      "outputs": []
    },
    {
      "cell_type": "markdown",
      "source": [
        "# **Conclusion**"
      ],
      "metadata": {
        "id": "gCX9965dhzqZ"
      }
    },
    {
      "cell_type": "markdown",
      "source": [
        "In our analysis, we began by conducting an exploratory data analysis (EDA) on all features in the dataset. We started by examining the dependent variable, 'Rented Bike Count,' and made necessary transformations to ensure its suitability for modeling. Moving on, we focused on the categorical variables and eliminated those with a dominant single class. For the numerical variables, we calculated correlations, studied their distributions, and analyzed their relationships with the dependent variable. Additionally, we removed numerical features mostly consisting of 0 values and performed one-hot encoding for the categorical variables.\n",
        "\n",
        "Next, we implemented three machine learning algorithms: Linear Regression, Lasso Regression & Ridge Regression. Our evaluation yielded the following findings:"
      ],
      "metadata": {
        "id": "HX08DNZt_D_j"
      }
    },
    {
      "cell_type": "code",
      "source": [
        "# displaying the results of evaluation metric values for all models\n",
        "result=pd.concat([training_df,test_df],keys=['Training set','Test set'])\n",
        "result"
      ],
      "metadata": {
        "id": "TBRSlO5W_bYU"
      },
      "execution_count": null,
      "outputs": []
    },
    {
      "cell_type": "markdown",
      "source": [
        "* Linear Regression, Lasso Regression & Ridge Regression show similar performance on both the training and test sets. They have comparable MAE, MSE, RMSE, R2 score, and adjusted R2 score values, indicating consistent predictive accuracy across the two datasets."
      ],
      "metadata": {
        "id": "aSZd3MaAAT3P"
      }
    },
    {
      "cell_type": "markdown",
      "source": [
        "### ***Hurrah! You have successfully completed your Machine Learning Capstone Project !!!***"
      ],
      "metadata": {
        "id": "gIfDvo9L0UH2"
      }
    }
  ]
}